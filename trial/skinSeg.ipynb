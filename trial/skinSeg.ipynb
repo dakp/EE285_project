{
 "cells": [
  {
   "cell_type": "code",
   "execution_count": 8,
   "metadata": {},
   "outputs": [],
   "source": [
    "import cv2\n",
    "import os\n",
    "import numpy as np\n",
    "import scipy.stats as ss\n",
    "\n",
    "skin_mean = [113.82950865, 146.5547067 , 203.94020505]\n",
    "skin_var = np.array([1739.0092018, 1290.22894013, 1426.94384388])\n",
    "nonSkin_mean = np.array([127.98836827, 128.85303495, 102.16741058])\n",
    "nonSkin_var = np.array([4390.21815255, 4127.27179659, 4125.52420851])\n",
    "skin_distbn = ss.multivariate_normal(mean = skin_mean, cov = skin_var)\n",
    "nonSkin_distbn = ss.multivariate_normal(mean = nonSkin_mean, cov = nonSkin_var)"
   ]
  },
  {
   "cell_type": "code",
   "execution_count": null,
   "metadata": {},
   "outputs": [],
   "source": [
    "rootdir = \"train\"\n",
    "for subdir, dirs, files in os.walk(rootdir):\n",
    "    for f in files:\n",
    "        img = cv2.imread(os.path.join(subdir, f))\n",
    "        thresh = 0.5\n",
    "        val = skin_distbn.pdf(img)/(skin_distbn.pdf(img) + nonSkin_distbn.pdf(img))\n",
    "        bool_mat = val>thresh\n",
    "        img[bool_mat] = [0, 255, 204]\n",
    "        cv2.imwrite(os.path.join(subdir,f), img)"
   ]
  },
  {
   "cell_type": "code",
   "execution_count": null,
   "metadata": {},
   "outputs": [],
   "source": [
    "rootdir = \"test\"\n",
    "for subdir, dirs, files in os.walk(rootdir):\n",
    "    for f in files:\n",
    "        img = cv2.imread(os.path.join(subdir, f))\n",
    "        thresh = 0.5\n",
    "        val = skin_distbn.pdf(img)/(skin_distbn.pdf(img) + nonSkin_distbn.pdf(img))\n",
    "        bool_mat = val>thresh\n",
    "        img[bool_mat] = [0, 255, 204]\n",
    "        cv2.imwrite(os.path.join(subdir,f), img)"
   ]
  }
 ],
 "metadata": {
  "kernelspec": {
   "display_name": "Python 2",
   "language": "python",
   "name": "python2"
  },
  "language_info": {
   "codemirror_mode": {
    "name": "ipython",
    "version": 2
   },
   "file_extension": ".py",
   "mimetype": "text/x-python",
   "name": "python",
   "nbconvert_exporter": "python",
   "pygments_lexer": "ipython2",
   "version": "2.7.14"
  }
 },
 "nbformat": 4,
 "nbformat_minor": 2
}
