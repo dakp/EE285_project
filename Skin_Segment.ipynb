{
 "cells": [
  {
   "cell_type": "code",
   "execution_count": 1,
   "metadata": {},
   "outputs": [],
   "source": [
    "import numpy as np\n",
    "import scipy.stats as ss\n",
    "import cv2\n",
    "#import torch\n",
    "\n",
    "def file_len(fname):\n",
    "    with open(fname) as f:\n",
    "        for i, l in enumerate(f):\n",
    "            pass\n",
    "    return i + 1\n",
    "    \n",
    "file = open(\"Data.txt\", \"r\") \n",
    "fLen = file_len(\"Data.txt\")\n",
    "bgr = [0]*fLen\n",
    "label = [0]*fLen\n",
    "for idx, line in enumerate(file):\n",
    "    temp = map(int, line.split())\n",
    "    bgr[idx] = [temp[0], temp[1], temp[2]]\n",
    "    label[idx] = temp[3]\n",
    "bgr = np.array(bgr)\n",
    "label = np.array(label)\n",
    "\n",
    "skin_mean = bgr[:50589,:].mean(axis=0)\n",
    "skin_var = bgr[:50589,:].var(axis=0)\n",
    "nonSkin_mean = bgr[50589:,:].mean(axis=0)\n",
    "nonSkin_var = bgr[50589:,:].var(axis=0)\n",
    "skin_distbn = ss.multivariate_normal(mean = skin_mean, cov = skin_var)\n",
    "nonSkin_distbn = ss.multivariate_normal(mean = nonSkin_mean, cov = nonSkin_var)\n"
   ]
  },
  {
   "cell_type": "code",
   "execution_count": 2,
   "metadata": {},
   "outputs": [
    {
     "name": "stdout",
     "output_type": "stream",
     "text": [
      "[ 0.44639023  0.57472434  0.79976551]\n",
      "[ 1739.0092018   1290.22894013  1426.94384388]\n"
     ]
    }
   ],
   "source": [
    "print skin_mean/255\n",
    "print skin_var"
   ]
  },
  {
   "cell_type": "code",
   "execution_count": 3,
   "metadata": {},
   "outputs": [
    {
     "name": "stdout",
     "output_type": "stream",
     "text": [
      "[ 127.98836827  128.85303495  102.16741058]\n",
      "[ 4390.21815255  4127.27179659  4125.52420851]\n"
     ]
    }
   ],
   "source": [
    "print nonSkin_mean\n",
    "print nonSkin_var"
   ]
  },
  {
   "cell_type": "code",
   "execution_count": 4,
   "metadata": {},
   "outputs": [],
   "source": [
    "# load an image\n",
    "import cv2\n",
    "img = cv2.imread('img_119.jpg')\n",
    "\n",
    "thresh = 0.5\n",
    "for i in range(480):\n",
    "    for j in range(640):\n",
    "        pixel = img[i][j]\n",
    "        val = skin_distbn.pdf(pixel)/(skin_distbn.pdf(pixel) + nonSkin_distbn.pdf(pixel))\n",
    "        if val > thresh:\n",
    "            #pass\n",
    "            img[i][j] = [0, 0, 0]\n",
    "\n",
    "cv2.imwrite('img_119.jpg', img)\n"
   ]
  }
 ],
 "metadata": {
  "kernelspec": {
   "display_name": "Python 2",
   "language": "python",
   "name": "python2"
  },
  "language_info": {
   "codemirror_mode": {
    "name": "ipython",
    "version": 2
   },
   "file_extension": ".py",
   "mimetype": "text/x-python",
   "name": "python",
   "nbconvert_exporter": "python",
   "pygments_lexer": "ipython2",
   "version": "2.7.14"
  }
 },
 "nbformat": 4,
 "nbformat_minor": 2
}
