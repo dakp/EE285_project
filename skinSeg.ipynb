{
 "cells": [
  {
   "cell_type": "code",
   "execution_count": 1,
   "metadata": {},
   "outputs": [],
   "source": [
    "import cv2\n",
    "import os\n",
    "import numpy as np\n",
    "import scipy.stats as ss\n",
    "import torch\n",
    "import time\n",
    "import matplotlib.pyplot as plt\n",
    "skin_mean = np.array([113.82950865, 146.5547067 , 203.94020505])\n",
    "skin_var = np.array([1739.0092018, 1290.22894013, 1426.94384388])\n",
    "nonSkin_mean = np.array([127.98836827, 128.85303495, 102.16741058])\n",
    "nonSkin_var = np.array([4390.21815255, 4127.27179659, 4125.52420851])\n",
    "skin_distbn = ss.multivariate_normal(mean = skin_mean, cov = skin_var)\n",
    "nonSkin_distbn = ss.multivariate_normal(mean = nonSkin_mean, cov = nonSkin_var)"
   ]
  },
  {
   "cell_type": "code",
   "execution_count": 17,
   "metadata": {},
   "outputs": [],
   "source": [
    "rootdir = \"../StateFarmDistractedDriverDetection/val/c0\"\n",
    "imgs = []\n",
    "file_list = []\n",
    "for subdir, dirs, files in os.walk(rootdir):\n",
    "    for f in files:\n",
    "        imgs.append(cv2.imread(os.path.join(subdir, f)))\n",
    "        file_list.append(f)"
   ]
  },
  {
   "cell_type": "code",
   "execution_count": 18,
   "metadata": {},
   "outputs": [],
   "source": [
    "if not os.path.exists('skin_segmented_output/val/c0'):\n",
    "    os.makedirs('skin_segmented_output/val/c0')"
   ]
  },
  {
   "cell_type": "code",
   "execution_count": 19,
   "metadata": {},
   "outputs": [],
   "source": [
    "out_dir = 'skin_segmented_output/val/c0'"
   ]
  },
  {
   "cell_type": "code",
   "execution_count": 20,
   "metadata": {},
   "outputs": [
    {
     "name": "stdout",
     "output_type": "stream",
     "text": [
      "36.193862915\n",
      "39.0650539398\n",
      "40.1262068748\n",
      "37.1978070736\n",
      "36.8142678738\n",
      "38.622781992\n",
      "40.0171420574\n",
      "38.1715779305\n",
      "37.8634989262\n"
     ]
    }
   ],
   "source": [
    "index = 0\n",
    "while index+200 <len(imgs):\n",
    "    imgs_batch = imgs[index:index+200]\n",
    "    time1 = time.time()\n",
    "    imgs_np = np.array(imgs_batch, dtype = np.double)\n",
    "    imgs_tensor = torch.from_numpy(imgs_np)\n",
    "    val1 = skin_distbn.pdf(imgs_tensor)\n",
    "    val2 = skin_distbn.pdf(imgs_tensor) + nonSkin_distbn.pdf(imgs_tensor)\n",
    "    val = np.divide(val1,val2)\n",
    "    time2 = time.time()\n",
    "    print (\"Time taken is \",time2-time1,\"seconds\")\n",
    "    \n",
    "    thresh = 0.5\n",
    "    bool_mat = val> thresh\n",
    "    bool_mat = np.array(bool_mat,dtype = np.int8)\n",
    "    mask = 1- bool_mat\n",
    "    mask_3d = np.repeat(mask[:, :, :,np.newaxis], 3, axis=3)\n",
    "    result = mask_3d* imgs_np + [0,255,204] * (1-mask_3d) * imgs_np\n",
    "    \n",
    "    for i,item in enumerate(result):\n",
    "        cv2.imwrite(os.path.join(out_dir,file_list[i+index]),item)\n",
    "    index+=200\n",
    "    #print index"
   ]
  },
  {
   "cell_type": "code",
   "execution_count": 21,
   "metadata": {},
   "outputs": [
    {
     "name": "stdout",
     "output_type": "stream",
     "text": [
      "22.7682979107\n"
     ]
    }
   ],
   "source": [
    "imgs_batch = imgs[index:]\n",
    "time1 = time.time()\n",
    "imgs_np = np.array(imgs_batch, dtype = np.double)\n",
    "imgs_tensor = torch.from_numpy(imgs_np)\n",
    "val1 = skin_distbn.pdf(imgs_tensor)\n",
    "val2 = skin_distbn.pdf(imgs_tensor) + nonSkin_distbn.pdf(imgs_tensor)\n",
    "val = np.divide(val1,val2)\n",
    "time2 = time.time()\n",
    "print (\"Time taken is \",time2-time1,\"seconds\")\n",
    "\n",
    "thresh = 0.5\n",
    "bool_mat = val> thresh\n",
    "bool_mat = np.array(bool_mat,dtype = np.int8)\n",
    "mask = 1- bool_mat\n",
    "mask_3d = np.repeat(mask[:, :, :,np.newaxis], 3, axis=3)\n",
    "result = mask_3d* imgs_np + [0,255,204] * (1-mask_3d) * imgs_np\n",
    "\n",
    "for i,item in enumerate(result):\n",
    "    cv2.imwrite(os.path.join(out_dir,file_list[i+index]),item)\n",
    "plt.imshow(item)"
   ]
  },
  {
   "cell_type": "code",
   "execution_count": null,
   "metadata": {},
   "outputs": [],
   "source": [
    "\n"
   ]
  },
  {
   "cell_type": "code",
   "execution_count": null,
   "metadata": {},
   "outputs": [],
   "source": []
  }
 ],
 "metadata": {
  "kernelspec": {
   "display_name": "Python 2",
   "language": "python",
   "name": "python2"
  },
  "language_info": {
   "codemirror_mode": {
    "name": "ipython",
    "version": 2
   },
   "file_extension": ".py",
   "mimetype": "text/x-python",
   "name": "python",
   "nbconvert_exporter": "python",
   "pygments_lexer": "ipython2",
   "version": "2.7.14"
  }
 },
 "nbformat": 4,
 "nbformat_minor": 2
}
